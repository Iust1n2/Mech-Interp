{
 "cells": [
  {
   "cell_type": "code",
   "execution_count": 5,
   "metadata": {},
   "outputs": [],
   "source": [
    "from transformers import AutoModelForCausalLM, AutoTokenizer, pipeline, set_seed, GPT2Model, GPT2LMHeadModel, GPT2Tokenizer"
   ]
  },
  {
   "cell_type": "code",
   "execution_count": 6,
   "metadata": {},
   "outputs": [
    {
     "name": "stdout",
     "output_type": "stream",
     "text": [
      "Length of tokens: 26\n",
      "Generated Text:  Alice lives in France, John - Berlin, John lives in Germany,  Alice - Paris, Peter lives in USA, Peter - London, Peter\n"
     ]
    }
   ],
   "source": [
    "# Define the model name\n",
    "model_name = 'gpt2-medium'  # 370M parameters\n",
    "\n",
    "# Redownload the model and tokenizer\n",
    "model1 = AutoModelForCausalLM.from_pretrained(model_name)\n",
    "tokenizer = AutoTokenizer.from_pretrained(model_name)\n",
    "\n",
    "# Define the prompt\n",
    "# prompt = \"alice -> france,\\nalice -> paris,\\nbob -> germany,\\nbob -> berlin,\\njohn -> usa,\\njohn\"\n",
    "# prompt = \"alice -> france,\\nparis -> alice,\\nbob -> germany,\\nberlin -> bob,\\njohn -> usa,\\nwashington\"\n",
    "# prompt = \"alice france, paris alice, bob germany, berlin bob, john usa, washington\"\n",
    "# prompt = \"alice lives in france,\\nparis -  alice,\\nbob lives in germany,\\nberlin - bob,\\njohn lives in usa,\\nwashington -\"\n",
    "\n",
    "# prompt = \"Alice lives in France, John - Berlin, John lives in Germany,  Alice - Paris, Peter lives in USA, Peter -\"\n",
    "prompt = \"Alice lives in France, John - Berlin, John lives in Germany,  Alice - Paris, Peter lives in USA, Peter -\"\n",
    "\n",
    "# Tokenize the input prompt\n",
    "encoded_input = tokenizer(prompt, return_tensors=\"pt\")\n",
    "input_ids = encoded_input.input_ids\n",
    "print(f\"Length of tokens: {len(input_ids[0])}\")\n",
    "attention_mask = encoded_input.attention_mask\n",
    "\n",
    "# Generate text\n",
    "gen_tokens = model1.generate(\n",
    "    input_ids,\n",
    "    attention_mask=attention_mask,\n",
    "    pad_token_id=tokenizer.eos_token_id,\n",
    "    do_sample=True,\n",
    "    temperature=0.1,\n",
    "    max_length=input_ids.size(1) + 3,\n",
    ")\n",
    "\n",
    "# Decode the generated tokens to text\n",
    "gen_text = tokenizer.batch_decode(gen_tokens, skip_special_tokens=True)[0]\n",
    "\n",
    "print(\"Generated Text: \", gen_text)"
   ]
  },
  {
   "cell_type": "code",
   "execution_count": 7,
   "metadata": {},
   "outputs": [],
   "source": [
    "tokenizer = GPT2Tokenizer.from_pretrained('gpt2')\n",
    "model2 = GPT2LMHeadModel.from_pretrained(\"openai-community/gpt2\")\n",
    "\n",
    "text = \"alice france, alice paris, bob germany, bob berlin, john usa, john \"\n",
    "encoded_input = tokenizer(text, return_tensors='pt')\n",
    "output = model2(**encoded_input)"
   ]
  },
  {
   "cell_type": "code",
   "execution_count": 8,
   "metadata": {},
   "outputs": [
    {
     "name": "stderr",
     "output_type": "stream",
     "text": [
      "Setting `pad_token_id` to `eos_token_id`:50256 for open-end generation.\n"
     ]
    },
    {
     "data": {
      "text/plain": [
       "[{'generated_text': 'alice france, alice paris, bob germany, bob berlin, john usa, john xtrombro'}]"
      ]
     },
     "execution_count": 8,
     "metadata": {},
     "output_type": "execute_result"
    }
   ],
   "source": [
    "generator = pipeline('text-generation', model='gpt2')\n",
    "set_seed(42)\n",
    "generator(\"alice france, alice paris, bob germany, bob berlin, john usa, john \", max_length=30, num_return_sequences=1)"
   ]
  }
 ],
 "metadata": {
  "kernelspec": {
   "display_name": "mech-interp",
   "language": "python",
   "name": "python3"
  },
  "language_info": {
   "codemirror_mode": {
    "name": "ipython",
    "version": 3
   },
   "file_extension": ".py",
   "mimetype": "text/x-python",
   "name": "python",
   "nbconvert_exporter": "python",
   "pygments_lexer": "ipython3",
   "version": "3.10.0"
  }
 },
 "nbformat": 4,
 "nbformat_minor": 2
}
