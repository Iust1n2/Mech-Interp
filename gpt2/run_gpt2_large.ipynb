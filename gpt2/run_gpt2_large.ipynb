{
 "cells": [
  {
   "cell_type": "code",
   "execution_count": 2,
   "metadata": {},
   "outputs": [],
   "source": [
    "from transformers import AutoModelForCausalLM, AutoTokenizer, pipeline, set_seed, GPT2Model, GPT2LMHeadModel, GPT2Tokenizer"
   ]
  },
  {
   "cell_type": "code",
   "execution_count": 10,
   "metadata": {},
   "outputs": [
    {
     "name": "stdout",
     "output_type": "stream",
     "text": [
      "Length of tokens: 36\n",
      "Generated Text:\n",
      " alice -> france,\n",
      "paris -> alice,\n",
      "bob -> germany,\n",
      "berlin -> bob,\n",
      "john -> usa,\n",
      "washington -> usa\n"
     ]
    }
   ],
   "source": [
    "# Define the model name\n",
    "model_name = 'gpt2-large'  # 812M parameters\n",
    "\n",
    "# Redownload the model and tokenizer\n",
    "model1 = AutoModelForCausalLM.from_pretrained(model_name)\n",
    "tokenizer = AutoTokenizer.from_pretrained(model_name)\n",
    "\n",
    "# Define the prompt\n",
    "# prompt = \"alice -> france,\\nalice -> paris,\\nbob -> germany,\\nbob -> berlin,\\njohn -> usa,\\njohn\"\n",
    "prompt = \"alice -> france,\\nparis -> alice,\\nbob -> germany,\\nberlin -> bob,\\njohn -> usa,\\nwashington\"\n",
    "# prompt = \"alice france, paris alice, bob germany, berlin bob, john usa, washington\"\n",
    "\n",
    "# Tokenize the input prompt\n",
    "encoded_input = tokenizer(prompt, return_tensors=\"pt\")\n",
    "input_ids = encoded_input.input_ids\n",
    "print(f\"Length of tokens: {len(input_ids[0])}\")\n",
    "attention_mask = encoded_input.attention_mask\n",
    "\n",
    "# Generate text\n",
    "gen_tokens = model1.generate(\n",
    "    input_ids,\n",
    "    attention_mask=attention_mask,\n",
    "    pad_token_id=tokenizer.eos_token_id,\n",
    "    do_sample=True,\n",
    "    temperature=0.1,\n",
    "    max_length=input_ids.size(1) + 3,\n",
    ")\n",
    "\n",
    "# Decode the generated tokens to text\n",
    "gen_text = tokenizer.batch_decode(gen_tokens, skip_special_tokens=True)[0]\n",
    "\n",
    "print(\"Generated Text:\\n\",gen_text)"
   ]
  },
  {
   "cell_type": "code",
   "execution_count": 8,
   "metadata": {},
   "outputs": [],
   "source": [
    "tokenizer = GPT2Tokenizer.from_pretrained('gpt2')\n",
    "model2 = GPT2LMHeadModel.from_pretrained(\"openai-community/gpt2\")\n",
    "\n",
    "text = \"alice france, alice paris, bob germany, bob berlin, john usa, john \"\n",
    "encoded_input = tokenizer(text, return_tensors='pt')\n",
    "output = model2(**encoded_input)"
   ]
  },
  {
   "cell_type": "code",
   "execution_count": 5,
   "metadata": {},
   "outputs": [
    {
     "name": "stderr",
     "output_type": "stream",
     "text": [
      "Truncation was not explicitly activated but `max_length` is provided a specific value, please use `truncation=True` to explicitly truncate examples to max length. Defaulting to 'longest_first' truncation strategy. If you encode pairs of sequences (GLUE-style) with the tokenizer you can select this strategy more precisely by providing a specific strategy to `truncation`.\n",
      "Setting `pad_token_id` to `eos_token_id`:50256 for open-end generation.\n"
     ]
    },
    {
     "data": {
      "text/plain": [
       "[{'generated_text': 'alice france, alice paris, bob germany, bob berlin, john usa, john erschner, john'}]"
      ]
     },
     "execution_count": 5,
     "metadata": {},
     "output_type": "execute_result"
    }
   ],
   "source": [
    "generator = pipeline('text-generation', model='gpt2-large')\n",
    "set_seed(42)\n",
    "generator(\"alice france, alice paris, bob germany, bob berlin, john usa, john \", max_length=30, num_return_sequences=1)"
   ]
  }
 ],
 "metadata": {
  "kernelspec": {
   "display_name": "mech-interp",
   "language": "python",
   "name": "python3"
  },
  "language_info": {
   "codemirror_mode": {
    "name": "ipython",
    "version": 3
   },
   "file_extension": ".py",
   "mimetype": "text/x-python",
   "name": "python",
   "nbconvert_exporter": "python",
   "pygments_lexer": "ipython3",
   "version": "3.10.0"
  }
 },
 "nbformat": 4,
 "nbformat_minor": 2
}
